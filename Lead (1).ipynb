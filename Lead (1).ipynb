{
 "metadata": {
  "language_info": {
   "codemirror_mode": {
    "name": "ipython",
    "version": 3
   },
   "file_extension": ".py",
   "mimetype": "text/x-python",
   "name": "python",
   "nbconvert_exporter": "python",
   "pygments_lexer": "ipython3",
   "version": "3.7.10"
  },
  "orig_nbformat": 2,
  "kernelspec": {
   "name": "python3710jvsc74a57bd034557c4129972600f46ab73f6d60d31e0ec191e7d378fd14c15cd532233346ff",
   "display_name": "Python 3.7.10 64-bit ('base': conda)"
  }
 },
 "nbformat": 4,
 "nbformat_minor": 2,
 "cells": [
  {
   "cell_type": "code",
   "execution_count": 1,
   "metadata": {},
   "outputs": [],
   "source": [
    "# importing packages\n",
    "import pandas as pd\n",
    "import numpy as np"
   ]
  },
  {
   "cell_type": "code",
   "execution_count": 2,
   "metadata": {},
   "outputs": [
    {
     "output_type": "execute_result",
     "data": {
      "text/plain": [
       "       first_name  last_name  gender         DOB     wealth_segment  \\\n",
       "0         Laraine  Medendorp       F  1953-10-12      Mass Customer   \n",
       "1             Eli    Bockman    Male  1980-12-16      Mass Customer   \n",
       "2           Arlin     Dearle    Male  1954-01-20      Mass Customer   \n",
       "3          Talbot        NaN    Male  1961-10-03      Mass Customer   \n",
       "4  Sheila-kathryn     Calton  Female  1977-05-13  Affluent Customer   \n",
       "\n",
       "  deceased_indicator owns_car  tenure              address  postcode  ...  \\\n",
       "0                  N      Yes    11.0   060 Morning Avenue      2016  ...   \n",
       "1                  N      Yes    16.0  6 Meadow Vale Court      2153  ...   \n",
       "2                  N      Yes    15.0   0 Holy Cross Court      4211  ...   \n",
       "3                  N       No     7.0  17979 Del Mar Point      2448  ...   \n",
       "4                  N      Yes     8.0     9 Oakridge Court      3216  ...   \n",
       "\n",
       "  Get updates on DM Content    Lead Profile    City  \\\n",
       "0                        No          Select  Select   \n",
       "1                        No          Select  Select   \n",
       "2                        No  Potential Lead  Mumbai   \n",
       "3                        No          Select  Mumbai   \n",
       "4                        No          Select  Mumbai   \n",
       "\n",
       "  Asymmetrique Activity Index  Asymmetrique Profile Index  \\\n",
       "0                   02.Medium                   02.Medium   \n",
       "1                   02.Medium                   02.Medium   \n",
       "2                   02.Medium                     01.High   \n",
       "3                   02.Medium                     01.High   \n",
       "4                   02.Medium                     01.High   \n",
       "\n",
       "  Asymmetrique Activity Score Asymmetrique Profile Score  \\\n",
       "0                        15.0                       15.0   \n",
       "1                        15.0                       15.0   \n",
       "2                        14.0                       20.0   \n",
       "3                        13.0                       17.0   \n",
       "4                        15.0                       18.0   \n",
       "\n",
       "  I agree to pay the amount through cheque  \\\n",
       "0                                       No   \n",
       "1                                       No   \n",
       "2                                       No   \n",
       "3                                       No   \n",
       "4                                       No   \n",
       "\n",
       "  A free copy of Mastering The Interview  Last Notable Activity  \n",
       "0                                     No               Modified  \n",
       "1                                     No           Email Opened  \n",
       "2                                    Yes           Email Opened  \n",
       "3                                     No               Modified  \n",
       "4                                     No               Modified  \n",
       "\n",
       "[5 rows x 46 columns]"
      ],
      "text/html": "<div>\n<style scoped>\n    .dataframe tbody tr th:only-of-type {\n        vertical-align: middle;\n    }\n\n    .dataframe tbody tr th {\n        vertical-align: top;\n    }\n\n    .dataframe thead th {\n        text-align: right;\n    }\n</style>\n<table border=\"1\" class=\"dataframe\">\n  <thead>\n    <tr style=\"text-align: right;\">\n      <th></th>\n      <th>first_name</th>\n      <th>last_name</th>\n      <th>gender</th>\n      <th>DOB</th>\n      <th>wealth_segment</th>\n      <th>deceased_indicator</th>\n      <th>owns_car</th>\n      <th>tenure</th>\n      <th>address</th>\n      <th>postcode</th>\n      <th>...</th>\n      <th>Get updates on DM Content</th>\n      <th>Lead Profile</th>\n      <th>City</th>\n      <th>Asymmetrique Activity Index</th>\n      <th>Asymmetrique Profile Index</th>\n      <th>Asymmetrique Activity Score</th>\n      <th>Asymmetrique Profile Score</th>\n      <th>I agree to pay the amount through cheque</th>\n      <th>A free copy of Mastering The Interview</th>\n      <th>Last Notable Activity</th>\n    </tr>\n  </thead>\n  <tbody>\n    <tr>\n      <th>0</th>\n      <td>Laraine</td>\n      <td>Medendorp</td>\n      <td>F</td>\n      <td>1953-10-12</td>\n      <td>Mass Customer</td>\n      <td>N</td>\n      <td>Yes</td>\n      <td>11.0</td>\n      <td>060 Morning Avenue</td>\n      <td>2016</td>\n      <td>...</td>\n      <td>No</td>\n      <td>Select</td>\n      <td>Select</td>\n      <td>02.Medium</td>\n      <td>02.Medium</td>\n      <td>15.0</td>\n      <td>15.0</td>\n      <td>No</td>\n      <td>No</td>\n      <td>Modified</td>\n    </tr>\n    <tr>\n      <th>1</th>\n      <td>Eli</td>\n      <td>Bockman</td>\n      <td>Male</td>\n      <td>1980-12-16</td>\n      <td>Mass Customer</td>\n      <td>N</td>\n      <td>Yes</td>\n      <td>16.0</td>\n      <td>6 Meadow Vale Court</td>\n      <td>2153</td>\n      <td>...</td>\n      <td>No</td>\n      <td>Select</td>\n      <td>Select</td>\n      <td>02.Medium</td>\n      <td>02.Medium</td>\n      <td>15.0</td>\n      <td>15.0</td>\n      <td>No</td>\n      <td>No</td>\n      <td>Email Opened</td>\n    </tr>\n    <tr>\n      <th>2</th>\n      <td>Arlin</td>\n      <td>Dearle</td>\n      <td>Male</td>\n      <td>1954-01-20</td>\n      <td>Mass Customer</td>\n      <td>N</td>\n      <td>Yes</td>\n      <td>15.0</td>\n      <td>0 Holy Cross Court</td>\n      <td>4211</td>\n      <td>...</td>\n      <td>No</td>\n      <td>Potential Lead</td>\n      <td>Mumbai</td>\n      <td>02.Medium</td>\n      <td>01.High</td>\n      <td>14.0</td>\n      <td>20.0</td>\n      <td>No</td>\n      <td>Yes</td>\n      <td>Email Opened</td>\n    </tr>\n    <tr>\n      <th>3</th>\n      <td>Talbot</td>\n      <td>NaN</td>\n      <td>Male</td>\n      <td>1961-10-03</td>\n      <td>Mass Customer</td>\n      <td>N</td>\n      <td>No</td>\n      <td>7.0</td>\n      <td>17979 Del Mar Point</td>\n      <td>2448</td>\n      <td>...</td>\n      <td>No</td>\n      <td>Select</td>\n      <td>Mumbai</td>\n      <td>02.Medium</td>\n      <td>01.High</td>\n      <td>13.0</td>\n      <td>17.0</td>\n      <td>No</td>\n      <td>No</td>\n      <td>Modified</td>\n    </tr>\n    <tr>\n      <th>4</th>\n      <td>Sheila-kathryn</td>\n      <td>Calton</td>\n      <td>Female</td>\n      <td>1977-05-13</td>\n      <td>Affluent Customer</td>\n      <td>N</td>\n      <td>Yes</td>\n      <td>8.0</td>\n      <td>9 Oakridge Court</td>\n      <td>3216</td>\n      <td>...</td>\n      <td>No</td>\n      <td>Select</td>\n      <td>Mumbai</td>\n      <td>02.Medium</td>\n      <td>01.High</td>\n      <td>15.0</td>\n      <td>18.0</td>\n      <td>No</td>\n      <td>No</td>\n      <td>Modified</td>\n    </tr>\n  </tbody>\n</table>\n<p>5 rows × 46 columns</p>\n</div>"
     },
     "metadata": {},
     "execution_count": 2
    }
   ],
   "source": [
    "# import file and view head\n",
    "lead = pd.read_csv('lead/leads_scoring.csv')\n",
    "lead.head()"
   ]
  },
  {
   "cell_type": "code",
   "execution_count": 3,
   "metadata": {},
   "outputs": [
    {
     "output_type": "stream",
     "name": "stdout",
     "text": [
      "<class 'pandas.core.frame.DataFrame'>\nRangeIndex: 4000 entries, 0 to 3999\nData columns (total 46 columns):\n #   Column                                    Non-Null Count  Dtype  \n---  ------                                    --------------  -----  \n 0   first_name                                4000 non-null   object \n 1   last_name                                 3875 non-null   object \n 2   gender                                    4000 non-null   object \n 3   DOB                                       3913 non-null   object \n 4   wealth_segment                            4000 non-null   object \n 5   deceased_indicator                        4000 non-null   object \n 6   owns_car                                  4000 non-null   object \n 7   tenure                                    3913 non-null   float64\n 8   address                                   4000 non-null   object \n 9   postcode                                  4000 non-null   int64  \n 10  state                                     4000 non-null   object \n 11  country                                   4000 non-null   object \n 12  property_valuation                        4000 non-null   int64  \n 13  Prospect ID                               4000 non-null   object \n 14  Lead Number                               4000 non-null   int64  \n 15  Lead Origin                               4000 non-null   object \n 16  Lead Source                               3985 non-null   object \n 17  Do Not Email                              4000 non-null   object \n 18  Do Not Call                               4000 non-null   object \n 19  Converted                                 4000 non-null   int64  \n 20  TotalVisits                               3917 non-null   float64\n 21  Total Time Spent on Website               4000 non-null   int64  \n 22  Page Views Per Visit                      3917 non-null   float64\n 23  Last Activity                             3938 non-null   object \n 24  How did you hear about X Education        3012 non-null   object \n 25  Search                                    4000 non-null   object \n 26  Magazine                                  4000 non-null   object \n 27  Newspaper Article                         4000 non-null   object \n 28  X Education Forums                        4000 non-null   object \n 29  Newspaper                                 4000 non-null   object \n 30  Digital Advertisement                     4000 non-null   object \n 31  Through Recommendations                   4000 non-null   object \n 32  Receive More Updates About Our Courses    4000 non-null   object \n 33  Tags                                      2414 non-null   object \n 34  Lead Quality                              1824 non-null   object \n 35  Update me on Supply Chain Content         4000 non-null   object \n 36  Get updates on DM Content                 4000 non-null   object \n 37  Lead Profile                              2699 non-null   object \n 38  City                                      3350 non-null   object \n 39  Asymmetrique Activity Index               2830 non-null   object \n 40  Asymmetrique Profile Index                2830 non-null   object \n 41  Asymmetrique Activity Score               2830 non-null   float64\n 42  Asymmetrique Profile Score                2830 non-null   float64\n 43  I agree to pay the amount through cheque  4000 non-null   object \n 44  A free copy of Mastering The Interview    4000 non-null   object \n 45  Last Notable Activity                     4000 non-null   object \ndtypes: float64(5), int64(5), object(36)\nmemory usage: 1.4+ MB\n"
     ]
    }
   ],
   "source": [
    "# Basic shape and datatypes\n",
    "lead.info()"
   ]
  },
  {
   "cell_type": "code",
   "execution_count": 4,
   "metadata": {},
   "outputs": [
    {
     "output_type": "execute_result",
     "data": {
      "text/plain": [
       "first_name                                     0\n",
       "last_name                                    125\n",
       "gender                                         0\n",
       "DOB                                           87\n",
       "wealth_segment                                 0\n",
       "deceased_indicator                             0\n",
       "owns_car                                       0\n",
       "tenure                                        87\n",
       "address                                        0\n",
       "postcode                                       0\n",
       "state                                          0\n",
       "country                                        0\n",
       "property_valuation                             0\n",
       "Prospect ID                                    0\n",
       "Lead Number                                    0\n",
       "Lead Origin                                    0\n",
       "Lead Source                                   15\n",
       "Do Not Email                                   0\n",
       "Do Not Call                                    0\n",
       "Converted                                      0\n",
       "TotalVisits                                   83\n",
       "Total Time Spent on Website                    0\n",
       "Page Views Per Visit                          83\n",
       "Last Activity                                 62\n",
       "How did you hear about X Education           988\n",
       "Search                                         0\n",
       "Magazine                                       0\n",
       "Newspaper Article                              0\n",
       "X Education Forums                             0\n",
       "Newspaper                                      0\n",
       "Digital Advertisement                          0\n",
       "Through Recommendations                        0\n",
       "Receive More Updates About Our Courses         0\n",
       "Tags                                        1586\n",
       "Lead Quality                                2176\n",
       "Update me on Supply Chain Content              0\n",
       "Get updates on DM Content                      0\n",
       "Lead Profile                                1301\n",
       "City                                         650\n",
       "Asymmetrique Activity Index                 1170\n",
       "Asymmetrique Profile Index                  1170\n",
       "Asymmetrique Activity Score                 1170\n",
       "Asymmetrique Profile Score                  1170\n",
       "I agree to pay the amount through cheque       0\n",
       "A free copy of Mastering The Interview         0\n",
       "Last Notable Activity                          0\n",
       "dtype: int64"
      ]
     },
     "metadata": {},
     "execution_count": 4
    }
   ],
   "source": [
    "# checking for missing values\n",
    "lead.isna().sum()"
   ]
  },
  {
   "cell_type": "code",
   "execution_count": 5,
   "metadata": {},
   "outputs": [
    {
     "output_type": "execute_result",
     "data": {
      "text/plain": [
       "first_name                                  0\n",
       "last_name                                   0\n",
       "gender                                      0\n",
       "DOB                                         0\n",
       "wealth_segment                              0\n",
       "deceased_indicator                          0\n",
       "owns_car                                    0\n",
       "tenure                                      0\n",
       "address                                     0\n",
       "postcode                                    0\n",
       "state                                       0\n",
       "country                                     0\n",
       "property_valuation                          0\n",
       "Prospect ID                                 0\n",
       "Lead Number                                 0\n",
       "Lead Origin                                 0\n",
       "Lead Source                                 0\n",
       "Do Not Email                                0\n",
       "Do Not Call                                 0\n",
       "Converted                                   0\n",
       "TotalVisits                                 0\n",
       "Total Time Spent on Website                 0\n",
       "Page Views Per Visit                        0\n",
       "Last Activity                               0\n",
       "How did you hear about X Education          0\n",
       "Search                                      0\n",
       "Magazine                                    0\n",
       "Newspaper Article                           0\n",
       "X Education Forums                          0\n",
       "Newspaper                                   0\n",
       "Digital Advertisement                       0\n",
       "Through Recommendations                     0\n",
       "Receive More Updates About Our Courses      0\n",
       "Tags                                        0\n",
       "Lead Quality                                0\n",
       "Update me on Supply Chain Content           0\n",
       "Get updates on DM Content                   0\n",
       "Lead Profile                                0\n",
       "City                                        0\n",
       "Asymmetrique Activity Index                 0\n",
       "Asymmetrique Profile Index                  0\n",
       "Asymmetrique Activity Score                 0\n",
       "Asymmetrique Profile Score                  0\n",
       "I agree to pay the amount through cheque    0\n",
       "A free copy of Mastering The Interview      0\n",
       "Last Notable Activity                       0\n",
       "dtype: int64"
      ]
     },
     "metadata": {},
     "execution_count": 5
    }
   ],
   "source": [
    "# splitting columns based on datatypes\n",
    "cat = [n for n in lead.columns if lead[n].dtype == object not in ['last_name', 'DOB']]\n",
    "num = [p for p in lead.columns if p not in cat]\n",
    "# filling up missing values\n",
    "lead[num] = lead[num].fillna(np.mean)\n",
    "\n",
    "from sklearn.impute import SimpleImputer\n",
    "obj = SimpleImputer(missing_values = np.nan, strategy = 'most_frequent')\n",
    "lead[cat] = obj.fit_transform(lead[cat])\n",
    "# Rechecking missing values\n",
    "lead.isna().sum() "
   ]
  },
  {
   "cell_type": "code",
   "execution_count": 6,
   "metadata": {},
   "outputs": [
    {
     "output_type": "stream",
     "name": "stdout",
     "text": [
      "<class 'pandas.core.frame.DataFrame'>\nRangeIndex: 4000 entries, 0 to 3999\nData columns (total 46 columns):\n #   Column                                    Non-Null Count  Dtype \n---  ------                                    --------------  ----- \n 0   first_name                                4000 non-null   object\n 1   last_name                                 4000 non-null   object\n 2   gender                                    4000 non-null   object\n 3   DOB                                       4000 non-null   object\n 4   wealth_segment                            4000 non-null   object\n 5   deceased_indicator                        4000 non-null   object\n 6   owns_car                                  4000 non-null   object\n 7   tenure                                    4000 non-null   object\n 8   address                                   4000 non-null   object\n 9   postcode                                  4000 non-null   int64 \n 10  state                                     4000 non-null   object\n 11  country                                   4000 non-null   object\n 12  property_valuation                        4000 non-null   int64 \n 13  Prospect ID                               4000 non-null   object\n 14  Lead Number                               4000 non-null   int64 \n 15  Lead Origin                               4000 non-null   object\n 16  Lead Source                               4000 non-null   object\n 17  Do Not Email                              4000 non-null   object\n 18  Do Not Call                               4000 non-null   object\n 19  Converted                                 4000 non-null   int64 \n 20  TotalVisits                               4000 non-null   object\n 21  Total Time Spent on Website               4000 non-null   int64 \n 22  Page Views Per Visit                      4000 non-null   object\n 23  Last Activity                             4000 non-null   object\n 24  How did you hear about X Education        4000 non-null   object\n 25  Search                                    4000 non-null   object\n 26  Magazine                                  4000 non-null   object\n 27  Newspaper Article                         4000 non-null   object\n 28  X Education Forums                        4000 non-null   object\n 29  Newspaper                                 4000 non-null   object\n 30  Digital Advertisement                     4000 non-null   object\n 31  Through Recommendations                   4000 non-null   object\n 32  Receive More Updates About Our Courses    4000 non-null   object\n 33  Tags                                      4000 non-null   object\n 34  Lead Quality                              4000 non-null   object\n 35  Update me on Supply Chain Content         4000 non-null   object\n 36  Get updates on DM Content                 4000 non-null   object\n 37  Lead Profile                              4000 non-null   object\n 38  City                                      4000 non-null   object\n 39  Asymmetrique Activity Index               4000 non-null   object\n 40  Asymmetrique Profile Index                4000 non-null   object\n 41  Asymmetrique Activity Score               4000 non-null   object\n 42  Asymmetrique Profile Score                4000 non-null   object\n 43  I agree to pay the amount through cheque  4000 non-null   object\n 44  A free copy of Mastering The Interview    4000 non-null   object\n 45  Last Notable Activity                     4000 non-null   object\ndtypes: int64(5), object(41)\nmemory usage: 1.4+ MB\n"
     ]
    }
   ],
   "source": [
    "lead.info()"
   ]
  },
  {
   "cell_type": "code",
   "execution_count": 7,
   "metadata": {},
   "outputs": [],
   "source": [
    "lead.DOB = pd.to_datetime(lead.DOB)\n",
    "lead['Month'] = lead.DOB.dt.month.astype('category')\n",
    "lead['year'] = lead.DOB.dt.year\n",
    "lead[cat] = lead[cat].astype('category')"
   ]
  },
  {
   "cell_type": "code",
   "execution_count": 8,
   "metadata": {},
   "outputs": [
    {
     "output_type": "execute_result",
     "data": {
      "text/plain": [
       "first_name                                  3139\n",
       "last_name                                   3725\n",
       "gender                                         7\n",
       "DOB                                         3448\n",
       "wealth_segment                                 3\n",
       "deceased_indicator                             2\n",
       "owns_car                                       2\n",
       "address                                     3996\n",
       "state                                          5\n",
       "country                                        1\n",
       "Prospect ID                                 4000\n",
       "Lead Origin                                    5\n",
       "Lead Source                                   18\n",
       "Do Not Email                                   2\n",
       "Do Not Call                                    2\n",
       "Last Activity                                 15\n",
       "How did you hear about X Education            10\n",
       "Search                                         2\n",
       "Magazine                                       1\n",
       "Newspaper Article                              1\n",
       "X Education Forums                             1\n",
       "Newspaper                                      2\n",
       "Digital Advertisement                          1\n",
       "Through Recommendations                        2\n",
       "Receive More Updates About Our Courses         1\n",
       "Tags                                          23\n",
       "Lead Quality                                   5\n",
       "Update me on Supply Chain Content              1\n",
       "Get updates on DM Content                      1\n",
       "Lead Profile                                   6\n",
       "City                                           7\n",
       "Asymmetrique Activity Index                    3\n",
       "Asymmetrique Profile Index                     3\n",
       "I agree to pay the amount through cheque       1\n",
       "A free copy of Mastering The Interview         2\n",
       "Last Notable Activity                         12\n",
       "dtype: int64"
      ]
     },
     "metadata": {},
     "execution_count": 8
    }
   ],
   "source": [
    "# Object columns number of unique values\n",
    "lead[cat].nunique()"
   ]
  },
  {
   "cell_type": "code",
   "execution_count": null,
   "metadata": {},
   "outputs": [],
   "source": [
    "one = [p for p in lead2.columns if lead2[p].nunique() == 1 or lead2[p].nunique() == lead2.shape[0]]"
   ]
  },
  {
   "cell_type": "code",
   "execution_count": 9,
   "metadata": {},
   "outputs": [],
   "source": [
    "# Spliting the dataset\n",
    "from sklearn.model_selection import train_test_split,cross_validate, KFold\n",
    "X = lead.drop(['Prospect ID', 'Lead Number', 'Converted','first_name','last_name', 'DOB', 'Prospect ID', 'address', 'country'], axis = 1)\n",
    "y = lead['Converted']\n",
    "# Train and test split\n",
    "train_X, test_X, train_y, test_y = train_test_split(X,y, test_size = 0.2, random_state = 42)"
   ]
  },
  {
   "source": [
    "# category encoding \n",
    "import category_encoders as ce\n",
    "encode = ce.BinaryEncoder(cat)\n",
    "train_X = encode.fit_transform(train_X)"
   ],
   "cell_type": "code",
   "metadata": {},
   "execution_count": 10,
   "outputs": [
    {
     "output_type": "stream",
     "name": "stderr",
     "text": [
      "C:\\Users\\iDAFAdmin\\AppData\\Local\\Continuum\\anaconda3\\lib\\site-packages\\category_encoders\\utils.py:21: FutureWarning: is_categorical is deprecated and will be removed in a future version.  Use is_categorical_dtype instead\n  elif pd.api.types.is_categorical(cols):\n"
     ]
    }
   ]
  },
  {
   "cell_type": "code",
   "execution_count": 11,
   "metadata": {},
   "outputs": [
    {
     "output_type": "execute_result",
     "data": {
      "text/plain": [
       "0    2420\n",
       "1    1580\n",
       "Name: Converted, dtype: int64"
      ]
     },
     "metadata": {},
     "execution_count": 11
    }
   ],
   "source": [
    "lead.Converted.value_counts()"
   ]
  },
  {
   "cell_type": "code",
   "execution_count": 12,
   "metadata": {},
   "outputs": [],
   "source": [
    "# importing classification algorithms\n",
    "from sklearn.ensemble import RandomForestClassifier, VotingClassifier, GradientBoostingClassifier\n",
    "from xgboost.sklearn import XGBClassifier\n",
    "from sklearn.neural_network import MLPClassifier\n",
    "from sklearn.neighbors import KNeighborsClassifier\n",
    "from catboost import CatBoostClassifier\n",
    "from lightgbm import LGBMClassifier"
   ]
  },
  {
   "cell_type": "code",
   "execution_count": 13,
   "metadata": {},
   "outputs": [
    {
     "output_type": "stream",
     "name": "stdout",
     "text": [
      "cat: 0.980195 (0.914725)\n",
      "mlp: 0.907910 (0.730928)\n",
      "lgbm: 0.975181 (0.909411)\n",
      "knc: 0.728113 (0.599398)\n",
      "rfc: 0.961498 (0.864272)\n",
      "gbc: 0.976233 (0.903921)\n"
     ]
    }
   ],
   "source": [
    "# Finding the BaseLine perfomance of the various models\n",
    "\n",
    "# prepare models\n",
    "models = []\n",
    "\n",
    "# Adding algorthms\n",
    "models.append(('cat', CatBoostClassifier(verbose=0)))\n",
    "models.append(('mlp', MLPClassifier()))\n",
    "models.append(('lgbm', LGBMClassifier()))\n",
    "models.append(('knc', KNeighborsClassifier()))\n",
    "models.append(('rfc', RandomForestClassifier()))\n",
    "models.append(('gbc', GradientBoostingClassifier()))\n",
    "# evaluate -cross validation- each model in turn\n",
    "results = []\n",
    "names = []\n",
    "scoring =['roc_auc', 'f1']\n",
    "for name, model in models:\n",
    "\tkfold = KFold(n_splits=10, shuffle= True)\n",
    "\tcv_results = cross_validate(model, train_X, train_y, cv=kfold, scoring=scoring, return_train_score=True)\n",
    "\tresults.append(cv_results)\n",
    "\tnames.append(name)\n",
    "\tmsg = \"%s: %f (%f)\" % (name, cv_results['test_roc_auc'].mean(), cv_results['test_f1'].mean())\n",
    "\tprint(msg)\n",
    "\n",
    "# for name, model in models:\n",
    "#     md = model.fit(train_X, train_y)\n",
    "#     print(f'{name}: Train score: {md.score(train_X, train_y)}, and Test Score: {md.score(test_X,test_y)}')\n",
    "    "
   ]
  },
  {
   "source": [
    "# Automl import, initialization and execution\n",
    "from tpot import TPOTClassifier\n",
    "tpot_pipe = TPOTClassifier(generations=5,population_size=30,cv=5,random_state=101, verbosity=2, scoring='accuracy', n_jobs=1)\n",
    "tpot_pipe.fit(train_X, train_y)"
   ],
   "cell_type": "code",
   "metadata": {},
   "execution_count": 14,
   "outputs": [
    {
     "output_type": "stream",
     "name": "stdout",
     "text": [
      "\n",
      "Generation 1 - Current best internal CV score: 0.9128125\n",
      "\n",
      "Generation 2 - Current best internal CV score: 0.9146875\n",
      "\n",
      "Generation 3 - Current best internal CV score: 0.9199999999999999\n",
      "\n",
      "Generation 4 - Current best internal CV score: 0.9199999999999999\n",
      "\n",
      "Generation 5 - Current best internal CV score: 0.9199999999999999\n",
      "\n",
      "Best pipeline: ExtraTreesClassifier(ExtraTreesClassifier(SelectFwe(input_matrix, alpha=0.044), bootstrap=False, criterion=entropy, max_features=0.6500000000000001, min_samples_leaf=2, min_samples_split=16, n_estimators=100), bootstrap=True, criterion=gini, max_features=0.3, min_samples_leaf=14, min_samples_split=7, n_estimators=100)\n"
     ]
    },
    {
     "output_type": "execute_result",
     "data": {
      "text/plain": [
       "TPOTClassifier(generations=5, population_size=30, random_state=101,\n",
       "               scoring='accuracy', verbosity=2)"
      ]
     },
     "metadata": {},
     "execution_count": 14
    }
   ]
  },
  {
   "source": [
    "# Test set encoding and prediction\n",
    "test_X = encode.transform(test_X)\n",
    "ypred = tpot_pipe.predict(test_X)"
   ],
   "cell_type": "code",
   "metadata": {},
   "execution_count": 15,
   "outputs": []
  },
  {
   "source": [
    "# Metric report\n",
    "from sklearn.metrics import classification_report\n",
    "print(classification_report(ypred, test_y))"
   ],
   "cell_type": "code",
   "metadata": {},
   "execution_count": 16,
   "outputs": [
    {
     "output_type": "stream",
     "name": "stdout",
     "text": [
      "              precision    recall  f1-score   support\n\n           0       0.95      0.92      0.93       504\n           1       0.87      0.92      0.89       296\n\n    accuracy                           0.92       800\n   macro avg       0.91      0.92      0.91       800\nweighted avg       0.92      0.92      0.92       800\n\n"
     ]
    }
   ]
  },
  {
   "cell_type": "code",
   "execution_count": null,
   "metadata": {},
   "outputs": [],
   "source": []
  }
 ]
}